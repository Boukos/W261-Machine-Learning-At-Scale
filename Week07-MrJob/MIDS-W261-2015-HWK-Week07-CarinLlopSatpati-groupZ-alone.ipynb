{
 "cells": [
  {
   "cell_type": "markdown",
   "metadata": {
    "collapsed": true
   },
   "source": [
    "#DATASCI W261: Machine Learning at Scale"
   ]
  },
  {
   "cell_type": "markdown",
   "metadata": {},
   "source": [
    "#HW7 (Group Z)"
   ]
  },
  {
   "cell_type": "markdown",
   "metadata": {},
   "source": [
    "- **Juanjo Carin, Christopher Llop, Sayantan Satpati**\n",
    "- [juanjose.carin@ischool.berkeley.edu](mailto:juanjose.carin@ischol.berkeley.com)\n",
    "- [christopher.llop@ischool.berkeley.edu](mailto:christopher.llop@ischool.berkeley.edu)\n",
    "- [sayantan.satpati@ischool.berkeley.edu](mailto:sayantan.satpati@ischool.berkeley.edu)\n",
    "- W261-2\n",
    "- Week 07\n",
    "- Submission date: 10/27/2015"
   ]
  },
  {
   "cell_type": "markdown",
   "metadata": {},
   "source": [
    "#General Description\n",
    "\n",
    "**In this assignment you will explore networks and develop MRJob code for finding shortest path graph distances. To build up to large data you will develop your code on some very simple, toy networks. After this you will take your developed code forward and modify it and apply it to two larger datasets (performing EDA along the way).**"
   ]
  },
  {
   "cell_type": "markdown",
   "metadata": {},
   "source": [
    "#Undirected toy network dataset\n",
    "\n",
    "**In an undirected network all links are symmetric, i.e., for a pair of nodes 'A' and 'B,' both of the links A -> B and B -> A will exist.**\n",
    "\n",
    "**The toy data are available in a sparse (stripes) representation:**\n",
    "\n",
    "    (node) \\t (dictionary of links)\n",
    "\n",
    "**on AWS via the url: s3://ucb-mids-mls-networks/undirected_toy.txt**\n",
    "\n",
    "**In the dictionary, target nodes are keys, link weights are values (here, all weights are 1, i.e., the network is unweighted).**"
   ]
  },
  {
   "cell_type": "markdown",
   "metadata": {},
   "source": [
    "#Directed toy network dataset\n",
    "\n",
    "**In a directed network all links are not necessarily symmetric, i.e., for a pair of nodes 'A' and 'B,' it is possible for only one of A -> B or B -> A to exist.**\n",
    "\n",
    "**These toy data are available in a sparse (stripes) representation:**\n",
    "\n",
    "    (node) \\t (dictionary of links)\n",
    "\n",
    "**on AWS via the url: s3://ucb-mids-mls-networks/directed_toy.txt**\n",
    "\n",
    "**In the dictionary, target nodes are keys, link weights are values (here, all weights are 1, i.e., the network is unweighted).**"
   ]
  },
  {
   "cell_type": "markdown",
   "metadata": {},
   "source": [
    "#HW7.0: Shortest path graph distances (toy networks)"
   ]
  },
  {
   "cell_type": "markdown",
   "metadata": {},
   "source": [
    "**In this part of your assignment you will develop the base of your code for the week.**\n",
    "\n",
    "**Write MRJob classes to find shortest path graph distances, as described in the lectures. In addition to finding the distances, your code should also output a distance-minimizing path between the source and target. Work locally for this part of the assignment, and use both of the undirected and directed toy networks.**\n",
    "\n",
    "**To proof you code's function, run the following jobs**\n",
    "\n",
    "- **shortest path in the undirected network from node 1 to node 4**\n",
    "    - **Solution: 1,5,4**\n",
    "- **shortest path in the directed network from node 1 to node 5**\n",
    "    - **Solution: 1,2,4,5**\n",
    "\n",
    "**and report your output---make sure it is correct!**"
   ]
  },
  {
   "cell_type": "markdown",
   "metadata": {},
   "source": [
    "## Importing Libraries and Downloading Data"
   ]
  },
  {
   "cell_type": "code",
   "execution_count": 1,
   "metadata": {
    "collapsed": false
   },
   "outputs": [],
   "source": [
    "# Turn on autoreload for easier troubleshooting.\n",
    "# This function causes iPython to re-load modules before executing code, which\n",
    "    # is useful because we will be updating the MRJob code while troubleshooting\n",
    "%load_ext autoreload\n",
    "%autoreload 2\n",
    "\n",
    "import networkx as nx\n",
    "import ast\n",
    "import matplotlib.pyplot as plt\n",
    "%matplotlib inline\n",
    "\n",
    "GLOBAL_PATH = \"/HD/Dropbox2/Dropbox/W261/HW7/\""
   ]
  },
  {
   "cell_type": "code",
   "execution_count": 2,
   "metadata": {
    "collapsed": false
   },
   "outputs": [
    {
     "name": "stdout",
     "output_type": "stream",
     "text": [
      "download: s3://ucb-mids-mls-networks/PageRank-test.txt to ../../../../../../../HD/Dropbox2/Dropbox/W261/HW7/PageRank-test.txt\r\n",
      "Completed 1 of 3 part(s) with 2 file(s) remaining\r",
      "download: s3://ucb-mids-mls-networks/randNet.txt to ../../../../../../../HD/Dropbox2/Dropbox/W261/HW7/randNet.txt\r\n",
      "Completed 2 of 3 part(s) with 1 file(s) remaining\r",
      "download: s3://ucb-mids-mls-networks/randNet_topics.txt to ../../../../../../../HD/Dropbox2/Dropbox/W261/HW7/randNet_topics.txt\r\n"
     ]
    }
   ],
   "source": [
    "# Get data from S3 for local exploration\n",
    "!aws s3 sync s3://ucb-mids-mls-networks/ $GLOBAL_PATH"
   ]
  },
  {
   "cell_type": "markdown",
   "metadata": {},
   "source": [
    "##Graph representation"
   ]
  },
  {
   "cell_type": "code",
   "execution_count": 3,
   "metadata": {
    "collapsed": false
   },
   "outputs": [
    {
     "data": {
      "image/png": "[encoded data removed]",
      "text/plain": [
       "<matplotlib.figure.Figure at 0x7f7e20b1cc90>"
      ]
     },
     "metadata": {},
     "output_type": "display_data"
    },
    {
     "data": {
      "image/png": "[encoded data removed]",
      "text/plain": [
       "<matplotlib.figure.Figure at 0x7f7e20a666d0>"
      ]
     },
     "metadata": {},
     "output_type": "display_data"
    }
   ],
   "source": [
    "# Flexible Load Data Function\n",
    "def load_data(filename):\n",
    "    nodes = set()\n",
    "    edges = set()\n",
    "    with open (filename, 'r') as myfile:\n",
    "        for line in myfile:\n",
    "            line = line.split('\\t')\n",
    "            node = line[0]\n",
    "            if node not in nodes:\n",
    "                nodes.add(node)\n",
    "            node_neighbors = ast.literal_eval(line[1])\n",
    "            for k in node_neighbors.keys():\n",
    "                edges.add((node, k, node_neighbors[k]))\n",
    "                if k not in nodes:\n",
    "                    nodes.add(k)\n",
    "    return nodes, edges\n",
    "\n",
    "# Plot Undirected Graph\n",
    "G=nx.Graph()\n",
    "nodes, edges = load_data('./undirected_toy.txt')\n",
    "\n",
    "# Load into networkx\n",
    "for node in nodes:\n",
    "    G.add_node(node)    \n",
    "for edge in edges:\n",
    "    G.add_edge(edge[0], edge[1], weight=edge[2])\n",
    "\n",
    "# Plot network \n",
    "pos=nx.spring_layout(G)\n",
    "nx.draw(G,pos, with_labels = True, node_color='g', node_size = 800)\n",
    "# Specifiy Edge Labels\n",
    "edge_labels=dict([((u,v,),d['weight']) for u,v,d in G.edges(data=True)])\n",
    "nx.draw_networkx_edge_labels(G,pos,edge_labels=edge_labels)\n",
    "plt.title(\"Undirected Toy Example with Weights\")\n",
    "plt.show()\n",
    "\n",
    "# Plot Directed Graph\n",
    "G=nx.DiGraph()\n",
    "nodes, edges = load_data('./directed_toy.txt')\n",
    "\n",
    "# Load into networkx\n",
    "for node in nodes:\n",
    "    G.add_node(node)    \n",
    "for edge in edges:\n",
    "    G.add_edge(edge[0], edge[1], weight=edge[2])\n",
    "\n",
    "# Plot network \n",
    "pos=nx.spring_layout(G)\n",
    "nx.draw(G,pos, with_labels = True, node_color='g', node_size = 800)\n",
    "# Specifiy Edge Labels\n",
    "edge_labels=dict([((u,v,),d['weight']) for u,v,d in G.edges(data=True)])\n",
    "nx.draw_networkx_edge_labels(G,pos,edge_labels=edge_labels)\n",
    "plt.title(\"Directed Toy Example with Weights\")\n",
    "plt.show()"
   ]
  },
  {
   "cell_type": "markdown",
   "metadata": {},
   "source": [
    "We tried several approaches, each one an optimized version of the previous.\n",
    "\n",
    "It is IMPORTANT to note that, in order to work with all kinds of graphs, our implementation is based on weighted graphs (last part of the asynchronous material covered in this week's lecture), and hence can work with weighted & unweighted graphs (as well as directed & undirected)."
   ]
  },
  {
   "cell_type": "markdown",
   "metadata": {},
   "source": [
    "#1st version"
   ]
  },
  {
   "cell_type": "markdown",
   "metadata": {},
   "source": [
    "Our first attempt is based on the pseudo mentioned in **7.14**. There are 2 files (that replicate a dictionary and a list in Python, respectively) that store the minimum distance and corresponding path for each node and the nodes in the frontier. Both files need to be updated in subsequent iterations, and they are re-written inside the MRJob (that is changed in the 2nd & later versions)."
   ]
  },
  {
   "cell_type": "markdown",
   "metadata": {},
   "source": [
    "##MRJob code"
   ]
  },
  {
   "cell_type": "code",
   "execution_count": 4,
   "metadata": {
    "collapsed": false
   },
   "outputs": [
    {
     "name": "stdout",
     "output_type": "stream",
     "text": [
      "Overwriting ShortestPath.py\n"
     ]
    }
   ],
   "source": [
    "%%writefile ShortestPath.py\n",
    "#!/home/hduser/anaconda/bin/python\n",
    "from numpy import argmin, array, random\n",
    "from mrjob.job import MRJob\n",
    "from mrjob.job import MRStep\n",
    "import ast\n",
    "\n",
    "GLOBAL_PATH = \"/HD/Dropbox2/Dropbox/W261/HW7/\"\n",
    "\n",
    "class ShortestPath(MRJob):\n",
    "    Frontiers = []\n",
    "    SSSP = {}\n",
    "    \n",
    "    def steps(self):\n",
    "        return [\n",
    "            MRStep(mapper_init = self.mapper_init, mapper=self.mapper,\n",
    "                   reducer_init = self.reducer_init, reducer = self.reducer)\n",
    "        ]\n",
    "\n",
    "    ## Load Frontiers & SSSP info into Mappers\n",
    "    def mapper_init(self):\n",
    "        ## Frontiers is a list of the nodes currenly in the Frontier\n",
    "        self.Frontiers = [s.strip() for s in \n",
    "                          open(GLOBAL_PATH + 'Frontiers.txt').readlines()]\n",
    "        #open(GLOBAL_PATH + 'Frontiers.txt', 'w').close()\n",
    "        ## SSSP is a dict with the shortest distance and corresponding path for \n",
    "            ## each node\n",
    "        with open(GLOBAL_PATH + 'SSSP.txt', 'r') as f:\n",
    "            for line in f:\n",
    "                line = line.strip().split('\\t')\n",
    "                dist_path = line[1].split(',')\n",
    "                self.SSSP[line[0]] = [float(dist_path[0]), dist_path[1]]\n",
    "        \n",
    "    ## Load data and output distance & path for nodes connected to those in the\n",
    "        ## Frontier\n",
    "    def mapper(self, _, line):\n",
    "        ## PSEUDOCODE\n",
    "        ## for each node v in G\n",
    "            ## for each node u outgouing from v\n",
    "                ## if v in Frontiers\n",
    "                    ## Output: (u, SSSP[v] + Dist(v,u))\n",
    "        line = line.split('\\t')\n",
    "        node = line[0]\n",
    "        sink = ast.literal_eval(line[1])\n",
    "        if node in self.Frontiers:\n",
    "            for sink_node in sink.keys():\n",
    "                if len(self.SSSP[node][1]) !=0 :\n",
    "                    yield sink_node, [self.SSSP[node][0] + sink[sink_node], \n",
    "                                      self.SSSP[node][1] + '/']\n",
    "                else:\n",
    "                    yield sink_node, [self.SSSP[node][0] + sink[sink_node], \n",
    "                                      self.SSSP[node][1] + node + '/']\n",
    "                \n",
    "    def reducer_init(self):\n",
    "        ## PSEUDOCODE\n",
    "        ## Frontiers = []\n",
    "        self.Frontiers = []\n",
    "        with open(GLOBAL_PATH + 'SSSP.txt', 'r') as f:\n",
    "            for line in f:\n",
    "                line = line.strip().split('\\t')\n",
    "                dist_path = line[1].split(',')\n",
    "                self.SSSP[line[0]] = [float(dist_path[0]), dist_path[1]]\n",
    "\n",
    "    def reducer(self, node, values):\n",
    "        ## PSEUDOCODE\n",
    "        ## for each key k find the minimum value Dmin[k]\n",
    "        ## if Dmin[k] < SSSP[k]\n",
    "            ## SSSP[k] = Dmin[k]\n",
    "            ## Push k in Frontiers\n",
    "            ## Output (k, SSSP[k])\n",
    "        dist_path = [v for v in values]\n",
    "        distances = [int(d[0]) for d in dist_path]\n",
    "        min_distance = min(distances)\n",
    "        path_min_distance = [d[1] for d in dist_path if d[0]==min_distance][0]\n",
    "        if min_distance < self.SSSP[node][0]:\n",
    "            self.SSSP[node][0] = float(min_distance)\n",
    "            self.SSSP[node][1] = path_min_distance + node\n",
    "            with open(GLOBAL_PATH + 'SSSP.txt', 'w+') as f:\n",
    "                for k in self.SSSP.keys():\n",
    "                    f.writelines(k + '\\t' + ','.join([str(x) for x in \n",
    "                                                      self.SSSP[k]]) + '\\n')\n",
    "            self.Frontiers.append(node)\n",
    "            with open(GLOBAL_PATH + 'Frontiers.txt', 'w+') as f:\n",
    "                for node in self.Frontiers:\n",
    "                    f.writelines(node + '\\n')\n",
    "            yield None, node\n",
    "        \n",
    "if __name__ == '__main__':\n",
    "    ShortestPath.run()"
   ]
  },
  {
   "cell_type": "code",
   "execution_count": 5,
   "metadata": {
    "collapsed": true
   },
   "outputs": [],
   "source": [
    "!chmod +x ShortestPath.py"
   ]
  },
  {
   "cell_type": "markdown",
   "metadata": {},
   "source": [
    "##Driver and solution for the 2 toy examples"
   ]
  },
  {
   "cell_type": "code",
   "execution_count": 6,
   "metadata": {
    "collapsed": false
   },
   "outputs": [
    {
     "name": "stdout",
     "output_type": "stream",
     "text": [
      "====  undirected_toy.txt  ====\n",
      "\n",
      "Iteration 1:\n",
      "Frontiers ['2', '5']\n",
      "{'1': [0.0, ''], '3': [inf, ''], '2': [1.0, '1/2'], '5': [1.0, '1/5'], '4': [inf, '']}\n",
      "\n",
      "Iteration 2:\n",
      "Frontiers ['3', '4']\n",
      "{'1': [0.0, ''], '3': [2.0, '1/2/3'], '2': [1.0, '1/2'], '5': [1.0, '1/5'], '4': [2.0, '1/2/4']}\n",
      "\n",
      "Iteration 3:\n",
      "Frontiers []\n",
      "{'1': [0.0, ''], '3': [2.0, '1/2/3'], '2': [1.0, '1/2'], '5': [1.0, '1/5'], '4': [2.0, '1/2/4']}\n",
      "\n",
      "Shortest path in the undirected network from node 1 to node 4: 1/2/4 (Distance: 2)\n",
      "\n",
      "============================\n",
      "\n",
      "====  directed_toy.txt  ====\n",
      "\n",
      "Iteration 1:\n",
      "Frontiers ['2', '6']\n",
      "{'1': [0.0, ''], '3': [inf, ''], '2': [1.0, '1/2'], '5': [inf, ''], '4': [inf, ''], '6': [1.0, '1/6']}\n",
      "\n",
      "Iteration 2:\n",
      "Frontiers ['3', '4']\n",
      "{'1': [0.0, ''], '3': [2.0, '1/2/3'], '2': [1.0, '1/2'], '5': [inf, ''], '4': [2.0, '1/2/4'], '6': [1.0, '1/6']}\n",
      "\n",
      "Iteration 3:\n",
      "Frontiers ['5']\n",
      "{'1': [0.0, ''], '3': [2.0, '1/2/3'], '2': [1.0, '1/2'], '5': [3.0, '1/2/4/5'], '4': [2.0, '1/2/4'], '6': [1.0, '1/6']}\n",
      "\n",
      "Iteration 4:\n",
      "Frontiers []\n",
      "{'1': [0.0, ''], '3': [2.0, '1/2/3'], '2': [1.0, '1/2'], '5': [3.0, '1/2/4/5'], '4': [2.0, '1/2/4'], '6': [1.0, '1/6']}\n",
      "\n",
      "Shortest path in the directed network from node 1 to node 5: 1/2/4/5 (Distance: 3)\n"
     ]
    }
   ],
   "source": [
    "from ShortestPath import ShortestPath\n",
    "\n",
    "files = ['undirected_toy.txt', 'directed_toy.txt']\n",
    "\n",
    "for current_file in files:\n",
    "    mr_job = ShortestPath(args=[GLOBAL_PATH + current_file])\n",
    "    ## Initialization\n",
    "        ## Get nodes\n",
    "    nodes = set()\n",
    "    with open(GLOBAL_PATH + current_file, 'r') as myfile:\n",
    "        for line in myfile:\n",
    "            line = line.split('\\t')\n",
    "            node = line[0]\n",
    "            if node not in nodes:\n",
    "                nodes.add(node)\n",
    "            node_neighbors = ast.literal_eval(line[1])\n",
    "            for k in node_neighbors.keys():\n",
    "                if k not in nodes:\n",
    "                    nodes.add(k)\n",
    "    nodes = list(nodes)\n",
    "        ## Define source\n",
    "    source = '1'\n",
    "        ## Initialize SSSP\n",
    "    SSSP = {}\n",
    "    for node in nodes:\n",
    "        if node == source:\n",
    "            SSSP[node] = [0, \"\"]\n",
    "        else:\n",
    "            SSSP[node] = [float('inf'), \"\"]\n",
    "    with open(GLOBAL_PATH + 'SSSP.txt', 'w+') as f:\n",
    "        for node in SSSP.keys():\n",
    "            f.writelines(node + '\\t' + ','.join([str(x) for x in SSSP[node]]) \n",
    "                         + '\\n')\n",
    "        ## Initialize Frontier\n",
    "    Frontiers = [source]\n",
    "    with open(GLOBAL_PATH + 'Frontiers.txt', 'w+') as f:\n",
    "        for node in Frontiers:\n",
    "            f.writelines(node + '\\n')\n",
    "    \n",
    "    print '==== ', current_file, ' ===='\n",
    "    \n",
    "    # Update shortest paths iteratively\n",
    "    i=0\n",
    "    while len(Frontiers) != 0:\n",
    "        Frontiers = []\n",
    "        print \"\\nIteration \"+str(i+1)+\":\"\n",
    "        with mr_job.make_runner() as runner: \n",
    "            runner.run()\n",
    "            # stream_output: get access of the output \n",
    "            for line in runner.stream_output():\n",
    "                key,value =  mr_job.parse_output_line(line)\n",
    "                Frontiers.append(value)\n",
    "        print 'Frontiers', Frontiers\n",
    "        SSSSP = {}\n",
    "        with open(GLOBAL_PATH + 'SSSP.txt', 'r') as f:\n",
    "            for line in f:\n",
    "                    line = line.strip().split('\\t')\n",
    "                    dist_path = line[1].split(',')\n",
    "                    SSSP[line[0]] = [float(dist_path[0]), dist_path[1]]\n",
    "            print SSSP\n",
    "        i = i + 1\n",
    "    if current_file == 'undirected_toy.txt':\n",
    "        print '\\nShortest path in the undirected network from node 1 to node '\\\n",
    "            '4: {} (Distance: {})'.format(SSSP['4'][1], int(SSSP['4'][0]))\n",
    "        print '\\n============================\\n'\n",
    "    else:\n",
    "        print '\\nShortest path in the directed network from node 1 to node '\\\n",
    "            '5: {} (Distance: {})'.format(SSSP['5'][1], int(SSSP['5'][0]))"
   ]
  },
  {
   "cell_type": "markdown",
   "metadata": {},
   "source": [
    "There are more than 1 possible solution (i.e., different paths whose total length is minimum)."
   ]
  },
  {
   "cell_type": "markdown",
   "metadata": {},
   "source": [
    "#2nd version"
   ]
  },
  {
   "cell_type": "markdown",
   "metadata": {},
   "source": [
    "In this 2nd version the SSSP and Frontiers files are re-written in the Drive, not in the MapReduce job."
   ]
  },
  {
   "cell_type": "markdown",
   "metadata": {},
   "source": [
    "##MRJob code"
   ]
  },
  {
   "cell_type": "code",
   "execution_count": 7,
   "metadata": {
    "collapsed": false
   },
   "outputs": [
    {
     "name": "stdout",
     "output_type": "stream",
     "text": [
      "Overwriting ShortestPath.py\n"
     ]
    }
   ],
   "source": [
    "%%writefile ShortestPath.py\n",
    "#!/home/hduser/anaconda/bin/python\n",
    "from numpy import argmin, array, random\n",
    "from mrjob.job import MRJob\n",
    "from mrjob.job import MRStep\n",
    "import ast\n",
    "\n",
    "GLOBAL_PATH = \"/HD/Dropbox2/Dropbox/W261/HW7/\"\n",
    "\n",
    "class ShortestPath(MRJob):\n",
    "    Frontiers = []\n",
    "    SSSP = {}\n",
    "    \n",
    "    def steps(self):\n",
    "        return [\n",
    "            MRStep(mapper_init = self.mapper_init, mapper=self.mapper,\n",
    "                   reducer_init = self.reducer_init, reducer = self.reducer)\n",
    "        ]\n",
    "\n",
    "    ## Load Frontiers & SSSP info into Mappers\n",
    "    def mapper_init(self):\n",
    "        ## Frontiers is a list of the nodes currenly in the Frontier\n",
    "        self.Frontiers = [s.strip() for s in \n",
    "                          open(GLOBAL_PATH + 'Frontiers.txt').readlines()]\n",
    "        open(GLOBAL_PATH + 'Frontiers.txt', 'w').close()\n",
    "        ## SSSP is a dict with the shortest distance and corresponding path for \n",
    "            ## each node\n",
    "        with open(GLOBAL_PATH + 'SSSP.txt', 'r') as f:\n",
    "            for line in f:\n",
    "                line = line.strip().split('\\t')\n",
    "                dist_path = line[1].split(',')\n",
    "                self.SSSP[line[0]] = [float(dist_path[0]), dist_path[1]]\n",
    "        \n",
    "    ## Load data and output distance & path for nodes connected to those in the\n",
    "        ## Frontier\n",
    "    def mapper(self, _, line):\n",
    "        ## PSEUDOCODE\n",
    "        ## for each node v in G\n",
    "            ## for each node u outgouing from v\n",
    "                ## if v in Frontiers\n",
    "                    ## Output: (u, SSSP[v] + Dist(v,u))\n",
    "        line = line.split('\\t')\n",
    "        node = line[0]\n",
    "        sink = ast.literal_eval(line[1])\n",
    "        if node in self.Frontiers:\n",
    "            for sink_node in sink.keys():\n",
    "                if len(self.SSSP[node][1]) !=0 :\n",
    "                    yield sink_node, [self.SSSP[node][0] + sink[sink_node], \n",
    "                                      self.SSSP[node][1] + '/']\n",
    "                else:\n",
    "                    yield sink_node, [self.SSSP[node][0] + sink[sink_node], \n",
    "                                      self.SSSP[node][1] + node + '/']\n",
    "                \n",
    "    def reducer_init(self):\n",
    "        ## PSEUDOCODE\n",
    "        ## Frontiers = []\n",
    "        with open(GLOBAL_PATH + 'SSSP.txt', 'r') as f:\n",
    "            for line in f:\n",
    "                line = line.strip().split('\\t')\n",
    "                dist_path = line[1].split(',')\n",
    "                self.SSSP[line[0]] = [float(dist_path[0]), dist_path[1]]\n",
    "\n",
    "    def reducer(self, node, values):\n",
    "        ## PSEUDOCODE\n",
    "        ## for each key k find the minimum value Dmin[k]\n",
    "        ## if Dmin[k] < SSSP[k]\n",
    "            ## SSSP[k] = Dmin[k]\n",
    "            ## Push k in Frontiers\n",
    "            ## Output (k, SSSP[k])\n",
    "        dist_path = [v for v in values]\n",
    "        distances = [int(d[0]) for d in dist_path]\n",
    "        min_distance = min(distances)\n",
    "        path_min_distance = [d[1] for d in dist_path if d[0]==min_distance][0]\n",
    "        if min_distance < self.SSSP[node][0]:\n",
    "            self.SSSP[node][0] = float(min_distance)\n",
    "            self.SSSP[node][1] = path_min_distance + node\n",
    "            yield node, self.SSSP[node]\n",
    "        \n",
    "if __name__ == '__main__':\n",
    "    ShortestPath.run()"
   ]
  },
  {
   "cell_type": "code",
   "execution_count": 8,
   "metadata": {
    "collapsed": true
   },
   "outputs": [],
   "source": [
    "!chmod +x ShortestPath.py"
   ]
  },
  {
   "cell_type": "markdown",
   "metadata": {},
   "source": [
    "##Driver and solution for the 2 toy examples"
   ]
  },
  {
   "cell_type": "code",
   "execution_count": 9,
   "metadata": {
    "collapsed": false
   },
   "outputs": [
    {
     "name": "stdout",
     "output_type": "stream",
     "text": [
      "====  undirected_toy.txt  ====\n",
      "\n",
      "Iteration 1:\n",
      "{'1': [0.0, ''], '3': [inf, ''], '2': [1.0, '1/2'], '5': [1.0, '1/5'], '4': [inf, '']}\n",
      "Frontiers ['2', '5']\n",
      "\n",
      "Iteration 2:\n",
      "{'1': [0.0, ''], '3': [2.0, '1/2/3'], '2': [1.0, '1/2'], '5': [1.0, '1/5'], '4': [2.0, '1/2/4']}\n",
      "Frontiers ['3', '4']\n",
      "\n",
      "Iteration 3:\n",
      "{'1': [0.0, ''], '3': [2.0, '1/2/3'], '2': [1.0, '1/2'], '5': [1.0, '1/5'], '4': [2.0, '1/2/4']}\n",
      "Frontiers []\n",
      "\n",
      "Shortest path in the undirected network from node 1 to node 4: 1/2/4 (Distance: 2)\n",
      "\n",
      "============================\n",
      "\n",
      "====  directed_toy.txt  ====\n",
      "\n",
      "Iteration 1:\n",
      "{'1': [0.0, ''], '3': [inf, ''], '2': [1.0, '1/2'], '5': [inf, ''], '4': [inf, ''], '6': [1.0, '1/6']}\n",
      "Frontiers ['2', '6']\n",
      "\n",
      "Iteration 2:\n",
      "{'1': [0.0, ''], '3': [2.0, '1/2/3'], '2': [1.0, '1/2'], '5': [inf, ''], '4': [2.0, '1/2/4'], '6': [1.0, '1/6']}\n",
      "Frontiers ['3', '4']\n",
      "\n",
      "Iteration 3:\n",
      "{'1': [0.0, ''], '3': [2.0, '1/2/3'], '2': [1.0, '1/2'], '5': [3.0, '1/2/4/5'], '4': [2.0, '1/2/4'], '6': [1.0, '1/6']}\n",
      "Frontiers ['5']\n",
      "\n",
      "Iteration 4:\n",
      "{'1': [0.0, ''], '3': [2.0, '1/2/3'], '2': [1.0, '1/2'], '5': [3.0, '1/2/4/5'], '4': [2.0, '1/2/4'], '6': [1.0, '1/6']}\n",
      "Frontiers []\n",
      "\n",
      "Shortest path in the directed network from node 1 to node 5: 1/2/4/5 (Distance: 3)\n"
     ]
    }
   ],
   "source": [
    "from ShortestPath import ShortestPath\n",
    "\n",
    "files = ['undirected_toy.txt', 'directed_toy.txt']\n",
    "\n",
    "for current_file in files:\n",
    "    mr_job = ShortestPath(args=[GLOBAL_PATH + current_file])\n",
    "    ## Initialization\n",
    "        ## Get nodes\n",
    "    nodes = set()\n",
    "    with open(GLOBAL_PATH + current_file, 'r') as myfile:\n",
    "        for line in myfile:\n",
    "            line = line.split('\\t')\n",
    "            node = line[0]\n",
    "            if node not in nodes:\n",
    "                nodes.add(node)\n",
    "            node_neighbors = ast.literal_eval(line[1])\n",
    "            for k in node_neighbors.keys():\n",
    "                if k not in nodes:\n",
    "                    nodes.add(k)\n",
    "    nodes = list(nodes)\n",
    "        ## Define source\n",
    "    source = '1'\n",
    "        ## Initialize SSSP\n",
    "    SSSP = {}\n",
    "    for node in nodes:\n",
    "        if node == source:\n",
    "            SSSP[node] = [0, \"\"]\n",
    "        else:\n",
    "            SSSP[node] = [float('inf'), \"\"]\n",
    "    with open(GLOBAL_PATH + 'SSSP.txt', 'w+') as f:\n",
    "        for node in SSSP.keys():\n",
    "            f.writelines(node + '\\t' + ','.join([str(x) for x in SSSP[node]]) \n",
    "                         + '\\n')\n",
    "\n",
    "    ## Initialize Frontier\n",
    "    Frontiers = [source]\n",
    "    with open(GLOBAL_PATH + 'Frontiers.txt', 'w+') as f:\n",
    "        for node in Frontiers:\n",
    "            f.writelines(node + '\\n')\n",
    "    \n",
    "    print '==== ', current_file, ' ===='\n",
    "    \n",
    "    # Update shortest paths iteratively\n",
    "    i=0\n",
    "    while len(Frontiers) != 0:\n",
    "        Frontiers = []\n",
    "        SSSP = {}\n",
    "        with open(GLOBAL_PATH + 'SSSP.txt', 'r') as f:\n",
    "            for line in f:\n",
    "                    line = line.strip().split('\\t')\n",
    "                    dist_path = line[1].split(',')\n",
    "                    SSSP[line[0]] = [float(dist_path[0]), dist_path[1]]\n",
    "        print \"\\nIteration \"+str(i+1)+\":\"\n",
    "        with mr_job.make_runner() as runner: \n",
    "            runner.run()\n",
    "            # stream_output: get access of the output \n",
    "            for line in runner.stream_output():\n",
    "                key,value =  mr_job.parse_output_line(line)\n",
    "                Frontiers.append(key)\n",
    "                SSSP[key] = value\n",
    "            with open(GLOBAL_PATH + 'SSSP.txt', 'w+') as f:\n",
    "                for node in SSSP.keys():\n",
    "                    f.writelines(node + '\\t' + ','.join([str(x) for x in SSSP[node]]) + '\\n')\n",
    "            print SSSP\n",
    "        print 'Frontiers', Frontiers\n",
    "        with open(GLOBAL_PATH + 'Frontiers.txt', 'w+') as f:\n",
    "            for node in Frontiers:\n",
    "                f.writelines(node + '\\n')\n",
    "        i = i + 1\n",
    "        \n",
    "    if current_file == 'undirected_toy.txt':\n",
    "        print '\\nShortest path in the undirected network from node 1 to node '\\\n",
    "            '4: {} (Distance: {})'.format(SSSP['4'][1], int(SSSP['4'][0]))\n",
    "        print '\\n============================\\n'\n",
    "    else:\n",
    "        print '\\nShortest path in the directed network from node 1 to node '\\\n",
    "            '5: {} (Distance: {})'.format(SSSP['5'][1], int(SSSP['5'][0]))"
   ]
  },
  {
   "cell_type": "markdown",
   "metadata": {},
   "source": [
    "There are more than 1 possible solution (i.e., different paths whose total length is minimum)."
   ]
  },
  {
   "cell_type": "markdown",
   "metadata": {},
   "source": [
    "#3rd (and final) version"
   ]
  },
  {
   "cell_type": "markdown",
   "metadata": {},
   "source": [
    "The SSSP file contains as many lines as nodes (same as the original file that contains the adjacency lists). Hnadling that file when the graph becomes large can be challenging, but there is no need to initialize it with all nodes (its distance to the source being infinite, and the path still unknown). Instead, we can start just with the source (distance to itself equal to zero), and keep adding nodes as we encounter them. This dramatically reduces the size of the file, at least in the first iterations (and if we're interested in the path to a particular node---and the graph is unweighted, or it is OK not to explore all the weighted paths---, as it is the case in subsequent parts of this assignment, the SSSP file will remain relatively small, as there is no need to search through the whole network once we've arrived at the node of interest."
   ]
  },
  {
   "cell_type": "markdown",
   "metadata": {},
   "source": [
    "##MRJob code"
   ]
  },
  {
   "cell_type": "code",
   "execution_count": 10,
   "metadata": {
    "collapsed": false
   },
   "outputs": [
    {
     "name": "stdout",
     "output_type": "stream",
     "text": [
      "Overwriting ShortestPath.py\n"
     ]
    }
   ],
   "source": [
    "%%writefile ShortestPath.py\n",
    "from numpy import argmin, array, random\n",
    "from mrjob.job import MRJob\n",
    "from mrjob.job import MRStep\n",
    "import ast\n",
    "\n",
    "GLOBAL_PATH = \"/HD/Dropbox2/Dropbox/W261/HW7/\"\n",
    "\n",
    "class ShortestPath(MRJob):\n",
    "    Frontiers = []\n",
    "    SSSP = {}\n",
    "    \n",
    "    def steps(self):\n",
    "        return [\n",
    "            MRStep(mapper_init = self.mapper_init, mapper=self.mapper,\n",
    "                   reducer_init = self.reducer_init, reducer = self.reducer)\n",
    "        ]\n",
    "\n",
    "    ## Load Frontiers & SSSP info into Mappers\n",
    "    def mapper_init(self):\n",
    "        ## Frontiers is a list of the nodes currenly in the Frontier\n",
    "        self.SSSP = {}\n",
    "        self.Frontiers = [s.strip() for s in \n",
    "                          open('Frontiers.txt').readlines()]\n",
    "#        open(GLOBAL_PATH + 'Frontiers.txt', 'w').close()\n",
    "        ## SSSP is a dict with the shortest distance and corresponding path for \n",
    "            ## each node\n",
    "        with open('SSSP.txt', 'r') as f:\n",
    "            for line in f:\n",
    "                line = line.strip().split('\\t')\n",
    "                dist_path = line[1].split(',')\n",
    "                self.SSSP[line[0]] = [float(dist_path[0]), dist_path[1]]\n",
    "        \n",
    "    ## Load data and output distance & path for nodes connected to those in the\n",
    "        ## Frontier\n",
    "    def mapper(self, _, line):\n",
    "        ## PSEUDOCODE\n",
    "        ## for each node v in G\n",
    "            ## for each node u outgouing from v\n",
    "                ## if v in Frontiers\n",
    "                    ## Output: (u, SSSP[v] + Dist(v,u))\n",
    "        line = line.split('\\t')\n",
    "        node = line[0]\n",
    "        sink = ast.literal_eval(line[1])\n",
    "        if node in self.Frontiers:\n",
    "            for sink_node in sink.keys():\n",
    "                if len(self.SSSP[node][1]) !=0 :\n",
    "                    yield sink_node, [self.SSSP[node][0] + sink[sink_node], \n",
    "                                      self.SSSP[node][1] + '/']\n",
    "                else:\n",
    "                    yield sink_node, [self.SSSP[node][0] + sink[sink_node], \n",
    "                                      self.SSSP[node][1] + node + '/']\n",
    "                \n",
    "    def reducer_init(self):\n",
    "        ## PSEUDOCODE\n",
    "        ## Frontiers = []\n",
    "        self.SSSP = {}\n",
    "        self.Frontiers = []\n",
    "        with open('SSSP.txt', 'r') as f:\n",
    "            for line in f:\n",
    "                line = line.strip().split('\\t')\n",
    "                dist_path = line[1].split(',')\n",
    "                self.SSSP[line[0]] = [float(dist_path[0]), dist_path[1]]\n",
    "\n",
    "    def reducer(self, node, values):\n",
    "        ## PSEUDOCODE\n",
    "        ## for each key k find the minimum value Dmin[k]\n",
    "        ## if Dmin[k] < SSSP[k]\n",
    "            ## SSSP[k] = Dmin[k]\n",
    "            ## Push k in Frontiers\n",
    "            ## Output (k, SSSP[k])\n",
    "        dist_path = [v for v in values]\n",
    "        distances = [int(d[0]) for d in dist_path]\n",
    "        min_distance = min(distances)\n",
    "        path_min_distance = [d[1] for d in dist_path if d[0]==min_distance][0]\n",
    "        self.SSSP[node] = self.SSSP.get(node,[float('inf'), ''])\n",
    "        if min_distance < self.SSSP[node][0]:\n",
    "            self.SSSP[node][0] = float(min_distance)\n",
    "            self.SSSP[node][1] = path_min_distance + node\n",
    "            yield node, self.SSSP[node]\n",
    "            \n",
    "            \n",
    "        \n",
    "if __name__ == '__main__':\n",
    "    ShortestPath.run()"
   ]
  },
  {
   "cell_type": "markdown",
   "metadata": {},
   "source": [
    "##Driver and solution for the 2 toy examples"
   ]
  },
  {
   "cell_type": "code",
   "execution_count": 11,
   "metadata": {
    "collapsed": false
   },
   "outputs": [
    {
     "name": "stdout",
     "output_type": "stream",
     "text": [
      "====  undirected_toy.txt  ====\n",
      "\n",
      "Iteration 1:\n",
      "{'1': [0.0, ''], '2': [1.0, '1/2'], '5': [1.0, '1/5']}\n",
      "Frontiers ['2', '5']\n",
      "\n",
      "Iteration 2:\n",
      "{'1': [0.0, ''], '3': [2.0, '1/2/3'], '2': [1.0, '1/2'], '5': [1.0, '1/5'], '4': [2.0, '1/2/4']}\n",
      "Frontiers ['3', '4']\n",
      "\n",
      "Iteration 3:\n",
      "{'1': [0.0, ''], '3': [2.0, '1/2/3'], '2': [1.0, '1/2'], '5': [1.0, '1/5'], '4': [2.0, '1/2/4']}\n",
      "Frontiers []\n",
      "\n",
      "Shortest path in the undirected network from node 1 to node 4: 1/2/4 (Distance: 2)\n",
      "\n",
      "============================\n",
      "\n",
      "====  directed_toy.txt  ====\n",
      "\n",
      "Iteration 1:\n",
      "{'1': [0.0, ''], '2': [1.0, '1/2'], '6': [1.0, '1/6']}\n",
      "Frontiers ['2', '6']\n",
      "\n",
      "Iteration 2:\n",
      "{'1': [0.0, ''], '3': [2.0, '1/2/3'], '2': [1.0, '1/2'], '4': [2.0, '1/2/4'], '6': [1.0, '1/6']}\n",
      "Frontiers ['3', '4']\n",
      "\n",
      "Iteration 3:\n",
      "{'1': [0.0, ''], '3': [2.0, '1/2/3'], '2': [1.0, '1/2'], '5': [3.0, '1/2/4/5'], '4': [2.0, '1/2/4'], '6': [1.0, '1/6']}\n",
      "Frontiers ['5']\n",
      "\n",
      "Iteration 4:\n",
      "{'1': [0.0, ''], '3': [2.0, '1/2/3'], '2': [1.0, '1/2'], '5': [3.0, '1/2/4/5'], '4': [2.0, '1/2/4'], '6': [1.0, '1/6']}\n",
      "Frontiers []\n",
      "\n",
      "Shortest path in the directed network from node 1 to node 5: 1/2/4/5 (Distance: 3)\n"
     ]
    }
   ],
   "source": [
    "from ShortestPath import ShortestPath\n",
    "\n",
    "GLOBAL_PATH = \"/HD/Dropbox2/Dropbox/W261/HW7/\"\n",
    "files = ['undirected_toy.txt', 'directed_toy.txt']\n",
    "\n",
    "for current_file in files:\n",
    "    mr_job = ShortestPath(args=[GLOBAL_PATH + current_file,\n",
    "                                  '--strict-protocols',\n",
    "                                  '--file','Frontiers.txt',\n",
    "                                  '--file','SSSP.txt'])\n",
    "    ## Initialization\n",
    "        ## Define source\n",
    "    source = '1'\n",
    "        ## Initialize SSSP\n",
    "    SSSP = {}\n",
    "    SSSP[source] = [0, \"\"]\n",
    "    with open(GLOBAL_PATH + 'SSSP.txt', 'w+') as f:\n",
    "        for node in SSSP.keys():\n",
    "            f.writelines(node + '\\t' + ','.join([str(x) for x in SSSP[node]]) \n",
    "                         + '\\n')\n",
    "        ## Initialize Frontier\n",
    "    Frontiers = [source]\n",
    "    with open(GLOBAL_PATH + 'Frontiers.txt', 'w+') as f:\n",
    "        for node in Frontiers:\n",
    "            f.writelines(node + '\\n')\n",
    "    \n",
    "    print '==== ', current_file, ' ===='\n",
    "    \n",
    "    # Update shortest paths iteratively\n",
    "    i=0\n",
    "    while len(Frontiers) != 0:\n",
    "        Frontiers = []\n",
    "        SSSP = {}\n",
    "        with open(GLOBAL_PATH + 'SSSP.txt', 'r') as f:\n",
    "            for line in f:\n",
    "                    line = line.strip().split('\\t')\n",
    "                    dist_path = line[1].split(',')\n",
    "                    SSSP[line[0]] = [float(dist_path[0]), dist_path[1]]\n",
    "        print \"\\nIteration \"+str(i+1)+\":\"\n",
    "        with mr_job.make_runner() as runner: \n",
    "            runner.run()\n",
    "            # stream_output: get access of the output \n",
    "            for line in runner.stream_output():\n",
    "                key,value =  mr_job.parse_output_line(line)\n",
    "                Frontiers.append(key)\n",
    "                SSSP[key] = value\n",
    "            with open(GLOBAL_PATH + 'SSSP.txt', 'w+') as f:\n",
    "                for node in SSSP.keys():\n",
    "                    f.writelines(node + '\\t' + ','.join([str(x) for x in SSSP[node]]) + '\\n')\n",
    "            print SSSP\n",
    "        print 'Frontiers', Frontiers\n",
    "        with open(GLOBAL_PATH + 'Frontiers.txt', 'w+') as f:\n",
    "            for node in Frontiers:\n",
    "                f.writelines(node + '\\n')\n",
    "        i = i + 1\n",
    "        \n",
    "    if current_file == 'undirected_toy.txt':\n",
    "        print '\\nShortest path in the undirected network from node 1 to node '\\\n",
    "            '4: {} (Distance: {})'.format(SSSP['4'][1], int(SSSP['4'][0]))\n",
    "        print '\\n============================\\n'\n",
    "    else:\n",
    "        print '\\nShortest path in the directed network from node 1 to node '\\\n",
    "            '5: {} (Distance: {})'.format(SSSP['5'][1], int(SSSP['5'][0]))"
   ]
  },
  {
   "cell_type": "markdown",
   "metadata": {},
   "source": [
    "There are more than 1 possible solution (i.e., different paths whose total length is minimum)."
   ]
  },
  {
   "cell_type": "markdown",
   "metadata": {},
   "source": [
    "###<font color=\"red\">See also the 2nd notebook for altenative implementations.</font>"
   ]
  },
  {
   "cell_type": "markdown",
   "metadata": {},
   "source": [
    "#Main dataset 1: NLTK synonyms\n",
    "\n",
    "**In the next part of this assignment you will explore a network derived from the NLTK synonym database used for evaluation in HW 5. At a high level, this network is undirected, defined so that there exists link between two nodes/words if the pair or words are a synonym. These data may be found at the location:**\n",
    "\n",
    "**s3://ucb-mids-mls-networks/synNet/synNet.txt**\n",
    "**s3://ucb-mids-mls-networks/synNet/indices.txt**\n",
    "\n",
    "**where synNet.txt contains a sparse representation of the network:**\n",
    "\n",
    "    (index) \\t (dictionary of links)\n",
    "\n",
    "**in indexed form, and indices.txt contains a lookup list**\n",
    "\n",
    "    (word) \\t (index)\n",
    "\n",
    "**of indices and words. This network is small enough for you to explore and run scripts locally, but will also be good for a systems test (for later) on AWS.**\n",
    "\n",
    "**In the dictionary, target nodes are keys, link weights are values (here, all weights are 1, i.e., the network is unweighted).**"
   ]
  },
  {
   "cell_type": "markdown",
   "metadata": {},
   "source": [
    "#HW7.1: Exploratory data analysis (NLTK synonyms)"
   ]
  },
  {
   "cell_type": "markdown",
   "metadata": {},
   "source": [
    "**Using MRJob, explore the synonyms network data. Consider plotting the degree distribution (does it follow a power law?), and determine some of the key features, like:**\n",
    "\n",
    "**number of nodes, **\n",
    "\n",
    "**number links,**\n",
    "\n",
    "**or the average degree (i.e., the average number of links per node),**\n",
    "\n",
    "**etc...**\n",
    "\n",
    "**As you develop your code, please be sure to run it locally first (though on the whole dataset). Once you have gotten you code to run locally, deploy it on AWS as a systems test in preparation for our next dataset (which will require AWS).**"
   ]
  },
  {
   "cell_type": "markdown",
   "metadata": {},
   "source": [
    "###<font color=\"red\">See the 2nd notebook.</font>"
   ]
  },
  {
   "cell_type": "markdown",
   "metadata": {},
   "source": [
    "#HW 7.2: Shortest path graph distances (NLTK synonyms)"
   ]
  },
  {
   "cell_type": "markdown",
   "metadata": {},
   "source": [
    "**Write (reuse your code from 7.0) an MRJob class to find shortest path graph distances, and apply it to the NLTK synonyms network dataset.**\n",
    "\n",
    "**Proof your code's function by running the job:**\n",
    "\n",
    "- **shortest path starting at \"walk\" (index=7827) and ending at \"make\" (index=536),**\n",
    "\n",
    "**and showing you code's output. Once again, your output should include the path and the distance.**\n",
    "\n",
    "**As you develop your code, please be sure to run it locally first (though on the whole dataset). Once you have gotten you code to run locally, deploy it on AWS as a systems test in preparation for our next dataset (which will require AWS).**"
   ]
  },
  {
   "cell_type": "markdown",
   "metadata": {},
   "source": [
    "Note that, because we are using unweighted graphs, the FIRST path found between two nodes will ALWAYS be the shortest. We can leverage this to stop iterating as soon as the first connection between two user-specified paths is found."
   ]
  },
  {
   "cell_type": "markdown",
   "metadata": {},
   "source": [
    "##Local Implementation"
   ]
  },
  {
   "cell_type": "code",
   "execution_count": 14,
   "metadata": {
    "collapsed": false
   },
   "outputs": [
    {
     "name": "stdout",
     "output_type": "stream",
     "text": [
      "Writing ShortestPathNLTK.py\n"
     ]
    }
   ],
   "source": [
    "%%writefile ShortestPathNLTK.py\n",
    "from numpy import argmin, array, random\n",
    "from mrjob.job import MRJob\n",
    "from mrjob.job import MRStep\n",
    "import ast\n",
    "\n",
    "GLOBAL_PATH = \"/Users/cjllop/Dropbox/W7/\"\n",
    "\n",
    "class ShortestPathNLTK(MRJob):\n",
    "    Frontiers = []\n",
    "    SSSP = {}\n",
    "    \n",
    "    def steps(self):\n",
    "        return [\n",
    "            MRStep(mapper_init = self.mapper_init, \n",
    "                   mapper=self.mapper,\n",
    "                   reducer_init = self.reducer_init, \n",
    "                   reducer = self.reducer\n",
    "                  )\n",
    "        ]\n",
    "\n",
    "    #load Frontiers & SSSP info from file\n",
    "    def mapper_init(self):\n",
    "        self.Frontiers = [s.strip() for s in \n",
    "                          open(GLOBAL_PATH + 'Frontiers.txt').readlines()]\n",
    "        open(GLOBAL_PATH + 'Frontiers.txt', 'w').close()\n",
    "        with open(GLOBAL_PATH + 'SSSP.txt', 'r') as f:\n",
    "            for line in f:\n",
    "                line = line.strip().split('\\t')\n",
    "                dist_path = line[1].split(',')\n",
    "                self.SSSP[line[0]] = [float(dist_path[0]), dist_path[1]]\n",
    "        \n",
    "    # For each node in the frontier, output \n",
    "    def mapper(self, _, line):\n",
    "        line = line.split('\\t')\n",
    "        node = line[0]\n",
    "        sink = ast.literal_eval(line[1])\n",
    "        if node in self.Frontiers:\n",
    "            for sink_node in sink.keys():\n",
    "                # Print : Node [Distance, Path]\n",
    "                if len(self.SSSP[node][1]) !=0 :\n",
    "                    yield sink_node, [self.SSSP[node][0] + sink[sink_node], self.SSSP[node][1] + '/']\n",
    "                else:\n",
    "                    yield sink_node, [self.SSSP[node][0] + sink[sink_node], self.SSSP[node][1] + node + '/']\n",
    "                \n",
    "    # Load SSSP file into reducer\n",
    "    def reducer_init(self):\n",
    "        self.Frontiers = []\n",
    "        with open(GLOBAL_PATH + 'SSSP.txt', 'r') as f:\n",
    "            for line in f:\n",
    "                line = line.strip().split('\\t')\n",
    "                dist_path = line[1].split(',')\n",
    "                self.SSSP[line[0]] = [float(dist_path[0]), dist_path[1]]\n",
    "\n",
    "    def reducer(self, node, values):\n",
    "        dist_path = [v for v in values]\n",
    "        distances = [int(d[0]) for d in dist_path]\n",
    "        min_distance = min(distances)\n",
    "        path_min_distance = [d[1] for d in dist_path if d[0]==min_distance][0]\n",
    "        if min_distance < self.SSSP[node][0]:\n",
    "            self.SSSP[node][0] = float(min_distance)\n",
    "            self.SSSP[node][1] = path_min_distance + node\n",
    "            with open(GLOBAL_PATH + 'SSSP.txt', 'w+') as f:\n",
    "                for k in self.SSSP.keys():\n",
    "                    f.writelines(k + '\\t' + ','.join([str(x) for x in self.SSSP[k]]) + '\\n')\n",
    "                self.Frontiers.append(node)\n",
    "            with open(GLOBAL_PATH + 'Frontiers.txt', 'w+') as f:\n",
    "                for node in self.Frontiers:\n",
    "                    f.writelines(node + '\\n')\n",
    "            yield None, node\n",
    "        \n",
    "if __name__ == '__main__':\n",
    "    ShortestPathNLTK.run()"
   ]
  },
  {
   "cell_type": "code",
   "execution_count": 17,
   "metadata": {
    "collapsed": false
   },
   "outputs": [
    {
     "name": "stdout",
     "output_type": "stream",
     "text": [
      "\n",
      "Iteration 1:\n",
      "There are 5 nodes in the Frontier\n",
      "\n",
      "Iteration 2:\n",
      "There are 107 nodes in the Frontier\n",
      "\n",
      "Iteration 3:\n",
      "There are 575 nodes in the Frontier\n",
      "\n",
      "The distance between nodes 7827 and 536 is 3.0 via path 7827/1426/1668/536\n"
     ]
    }
   ],
   "source": [
    "import ast\n",
    "from ShortestPathNLTK import ShortestPathNLTK\n",
    "\n",
    "GLOBAL_PATH = \"/HD/Dropbox2/Dropbox/W261/HW7/\"\n",
    "GLOBAL_DATA = 'synNet/synNet.txt'\n",
    "\n",
    "# Start at source. Stop iterating at stop if it is specified.\n",
    "# Code will solve for entire network starting at source if no stop is provided\n",
    "source = '7827'\n",
    "#stop = '4655'\n",
    "stop = '536'\n",
    "SSSP = {}\n",
    "\n",
    "mr_job = ShortestPathNLTK(args=[GLOBAL_PATH + GLOBAL_DATA,'--strict-protocols'])\n",
    "\n",
    "#Initialization\n",
    "nodes = set()\n",
    "with open(GLOBAL_DATA, 'r') as myfile:\n",
    "    for line in myfile:\n",
    "        line = line.split('\\t')\n",
    "        node = line[0]\n",
    "        if node not in nodes:\n",
    "            nodes.add(node)\n",
    "        node_neighbors = ast.literal_eval(line[1])\n",
    "        for k in node_neighbors.keys():\n",
    "            if k not in nodes:\n",
    "                nodes.add(k)\n",
    "nodes = list(nodes)\n",
    "\n",
    "# Create SSSP\n",
    "for node in nodes:\n",
    "    if node == source:\n",
    "        SSSP[node] = [0, \"\"]\n",
    "    else:\n",
    "        SSSP[node] = [float('inf'), \"\"]\n",
    "with open(GLOBAL_PATH + 'SSSP.txt', 'w+') as f:\n",
    "    for node in SSSP.keys():\n",
    "        f.writelines(node + '\\t' + ','.join([str(x) for x in SSSP[node]]) + '\\n')\n",
    "\n",
    "# Create Frontiers\n",
    "Frontiers = [source]\n",
    "with open(GLOBAL_PATH + 'Frontiers.txt', 'w+') as f:\n",
    "    for node in Frontiers:\n",
    "        f.writelines(node + '\\n')\n",
    "\n",
    "# Update shortest paths iteratively\n",
    "i=0\n",
    "stop_found = 0\n",
    "while len(Frontiers) != 0 and stop_found == 0:\n",
    "    Frontiers = []\n",
    "    print \"\\nIteration \"+str(i+1)+\":\"\n",
    "    with mr_job.make_runner() as runner: \n",
    "        runner.run()\n",
    "        # stream_output: get access of the output \n",
    "        for line in runner.stream_output():\n",
    "            key,value =  mr_job.parse_output_line(line)\n",
    "#            print key, value\n",
    "            Frontiers.append(value)\n",
    "            if str(value) == stop:\n",
    "                stop_found = 1\n",
    "#    print 'Frontiers', Frontiers\n",
    "    print 'There are {} nodes in the Frontier'.format(len(Frontiers))\n",
    "    SSSSP = {}\n",
    "    with open(GLOBAL_PATH + 'SSSP.txt', 'r') as f:\n",
    "        for line in f:\n",
    "                line = line.strip().split('\\t')\n",
    "                dist_path = line[1].split(',')\n",
    "                SSSP[line[0]] = [float(dist_path[0]), dist_path[1]]\n",
    "    i = i + 1\n",
    "\n",
    "print\n",
    "if stop != '':\n",
    "    print \"The distance between nodes {} and {} is {} via path {}\".format(source, stop, SSSP[stop][0], SSSP[stop][1])\n",
    "else:\n",
    "    print \"Network solved from source node {}\".format(source)"
   ]
  },
  {
   "cell_type": "markdown",
   "metadata": {},
   "source": [
    "##AWS Implementation"
   ]
  },
  {
   "cell_type": "code",
   "execution_count": 2,
   "metadata": {
    "collapsed": false
   },
   "outputs": [
    {
     "name": "stdout",
     "output_type": "stream",
     "text": [
      "Overwriting ShortestPath_X.py\n"
     ]
    }
   ],
   "source": [
    "%%writefile ShortestPath_X.py\n",
    "from numpy import argmin, array, random\n",
    "from mrjob.job import MRJob\n",
    "from mrjob.job import MRStep\n",
    "import ast\n",
    "\n",
    "class ShortestPath_X(MRJob):\n",
    "    Frontiers = []\n",
    "    SSSP = {}\n",
    "    \n",
    "    def steps(self):\n",
    "        return [\n",
    "            MRStep(mapper_init = self.mapper_init, mapper=self.mapper,\n",
    "                   reducer_init = self.reducer_init, reducer = self.reducer)\n",
    "        ]\n",
    "\n",
    "    ## Load Frontiers & SSSP info into Mappers\n",
    "    def mapper_init(self):\n",
    "        ## Frontiers is a list of the nodes currenly in the Frontier\n",
    "        self.SSSP = {}\n",
    "        self.Frontiers = [s.strip() for s in \n",
    "                          open('Frontiers.txt').readlines()]\n",
    "        ## SSSP is a dict with the shortest distance and corresponding path for \n",
    "            ## each node\n",
    "        with open('SSSP.txt', 'r') as f:\n",
    "            for line in f:\n",
    "                line = line.strip().split('\\t')\n",
    "                dist_path = line[1].split(',')\n",
    "                self.SSSP[line[0]] = [float(dist_path[0]), dist_path[1]]\n",
    "        \n",
    "    ## Load data and output distance & path for nodes connected to those in the\n",
    "        ## Frontier\n",
    "    def mapper(self, _, line):\n",
    "        ## PSEUDOCODE\n",
    "        ## for each node v in G\n",
    "            ## for each node u outgouing from v\n",
    "                ## if v in Frontiers\n",
    "                    ## Output: (u, SSSP[v] + Dist(v,u))\n",
    "        line = line.split('\\t')\n",
    "        node = line[0]\n",
    "        sink = ast.literal_eval(line[1])\n",
    "        if node in self.Frontiers:\n",
    "            for sink_node in sink.keys():\n",
    "                if len(self.SSSP[node][1]) !=0 :\n",
    "                    yield sink_node, [self.SSSP[node][0] + sink[sink_node], \n",
    "                                      self.SSSP[node][1] + '/']\n",
    "                else:\n",
    "                    yield sink_node, [self.SSSP[node][0] + sink[sink_node], \n",
    "                                      self.SSSP[node][1] + node + '/']\n",
    "                \n",
    "    def reducer_init(self):\n",
    "        ## PSEUDOCODE\n",
    "        ## Frontiers = []\n",
    "        self.SSSP = {}\n",
    "        self.Frontiers = []\n",
    "        with open('SSSP.txt', 'r') as f:\n",
    "            for line in f:\n",
    "                line = line.strip().split('\\t')\n",
    "                dist_path = line[1].split(',')\n",
    "                self.SSSP[line[0]] = [float(dist_path[0]), dist_path[1]]\n",
    "\n",
    "    def reducer(self, node, values):\n",
    "        ## PSEUDOCODE\n",
    "        ## for each key k find the minimum value Dmin[k]\n",
    "        ## if Dmin[k] < SSSP[k]\n",
    "            ## DDDP[k] = Dmin[k]\n",
    "            ## Push k in Frontiers\n",
    "            ## Output (k, SSSP[k])\n",
    "        dist_path = [v for v in values]\n",
    "        distances = [int(d[0]) for d in dist_path]\n",
    "        min_distance = min(distances)\n",
    "        path_min_distance = [d[1] for d in dist_path if d[0]==min_distance][0]\n",
    "        self.SSSP[node] = self.SSSP.get(node,[float('inf'), ''])\n",
    "        if min_distance < self.SSSP[node][0]:\n",
    "            self.SSSP[node][0] = float(min_distance)\n",
    "            self.SSSP[node][1] = path_min_distance + node\n",
    "            yield node, self.SSSP[node]\n",
    "        \n",
    "if __name__ == '__main__':\n",
    "    ShortestPath_X.run()"
   ]
  },
  {
   "cell_type": "code",
   "execution_count": 38,
   "metadata": {
    "collapsed": true
   },
   "outputs": [],
   "source": [
    "!chmod +x ShortestPath_X.py"
   ]
  },
  {
   "cell_type": "code",
   "execution_count": 5,
   "metadata": {
    "collapsed": false
   },
   "outputs": [
    {
     "name": "stderr",
     "output_type": "stream",
     "text": [
      "WARNING:mrjob.util:hash_object() is deprecated and will be removed in v0.5\n"
     ]
    },
    {
     "name": "stdout",
     "output_type": "stream",
     "text": [
      "====  s3://ucb-mids-mls-networks/synNet/synNet.txt  ====\n",
      "\n",
      "Iteration 1:\n",
      "There are 5 nodes in the Frontier"
     ]
    },
    {
     "name": "stderr",
     "output_type": "stream",
     "text": [
      "WARNING:mrjob.util:hash_object() is deprecated and will be removed in v0.5\n"
     ]
    },
    {
     "name": "stdout",
     "output_type": "stream",
     "text": [
      "\n",
      "\n",
      "Iteration 2:\n",
      "There are 107 nodes in the Frontier"
     ]
    },
    {
     "name": "stderr",
     "output_type": "stream",
     "text": [
      "WARNING:mrjob.util:hash_object() is deprecated and will be removed in v0.5\n"
     ]
    },
    {
     "name": "stdout",
     "output_type": "stream",
     "text": [
      "\n",
      "\n",
      "Iteration 3:\n",
      "There are 575 nodes in the Frontier\n",
      "\n",
      "The distance between nodes 7827 and 536 is 3.0 via path 7827/1426/631/536\n"
     ]
    }
   ],
   "source": [
    "from ShortestPath_X import ShortestPath_X\n",
    "\n",
    "GLOBAL_PATH = \"/HD/Dropbox2/Dropbox/W261/HW7/\"\n",
    "\n",
    "GLOBAL_DATA = 's3://ucb-mids-mls-networks/synNet/synNet.txt'\n",
    "source = '7827'\n",
    "stop = '536'\n",
    "\n",
    "mr_job = ShortestPath_X(args=[GLOBAL_DATA, '-r', 'emr',\n",
    "                              '--file','Frontiers.txt',\n",
    "                              '--file','SSSP.txt',\n",
    "                              '--pool-emr-job-flows', '--max-hours-idle=1'])\n",
    "\n",
    "## Initialization\n",
    "    ## Initialize SSSP\n",
    "SSSP = {}\n",
    "SSSP[source] = [0, \"\"]\n",
    "with open(GLOBAL_PATH + 'SSSP.txt', 'w+') as f:\n",
    "    for node in SSSP.keys():\n",
    "        f.writelines(node + '\\t' + ','.join([str(x) for x in SSSP[node]]) \n",
    "                     + '\\n')\n",
    "    ## Initialize Frontier\n",
    "Frontiers = [source]\n",
    "with open(GLOBAL_PATH + 'Frontiers.txt', 'w+') as f:\n",
    "    for node in Frontiers:\n",
    "        f.writelines(node + '\\n')\n",
    "\n",
    "print '==== ', GLOBAL_DATA, ' ===='\n",
    "\n",
    "# Update shortest paths iteratively\n",
    "i=0\n",
    "stop_found = 0\n",
    "while len(Frontiers) != 0 and stop_found == 0:\n",
    "    Frontiers = []\n",
    "    SSSP = {}\n",
    "    with open(GLOBAL_PATH + 'SSSP.txt', 'r') as f:\n",
    "        for line in f:\n",
    "                line = line.strip().split('\\t')\n",
    "                dist_path = line[1].split(',')\n",
    "                SSSP[line[0]] = [float(dist_path[0]), dist_path[1]]\n",
    "    print \"\\nIteration \"+str(i+1)+\":\"\n",
    "    with mr_job.make_runner() as runner: \n",
    "        runner.run()\n",
    "        # stream_output: get access of the output \n",
    "        for line in runner.stream_output():\n",
    "            key,value =  mr_job.parse_output_line(line)\n",
    "            Frontiers.append(key)\n",
    "            SSSP[key] = value\n",
    "            if str(key) == stop:\n",
    "                stop_found = 1\n",
    "        with open(GLOBAL_PATH + 'SSSP.txt', 'w+') as f:\n",
    "            for node in SSSP.keys():\n",
    "                f.writelines(node + '\\t' + ','.join([str(x) for x in SSSP[node]]) + '\\n')\n",
    "#        print SSSP\n",
    "#    print 'Frontiers', Frontiers\n",
    "    print 'There are {} nodes in the Frontier'.format(len(Frontiers))\n",
    "    with open(GLOBAL_PATH + 'Frontiers.txt', 'w+') as f:\n",
    "        for node in Frontiers:\n",
    "            f.writelines(node + '\\n')\n",
    "    i = i + 1\n",
    "\n",
    "print\n",
    "if stop != '':\n",
    "    print \"The distance between nodes {} and {} is {} via path {}\".format(source, stop, SSSP[stop][0], SSSP[stop][1])\n",
    "else:\n",
    "    print \"Network solved from source node {}\".format(source)"
   ]
  },
  {
   "cell_type": "markdown",
   "metadata": {},
   "source": [
    "#Main dataset 2: English Wikipedia"
   ]
  },
  {
   "cell_type": "markdown",
   "metadata": {},
   "source": [
    "**For the remainder of this assignment you will explore the English Wikipedia hyperlink network. The dataset is built from the Sept. 2015 XML snapshot of English Wikipedia. For this directed network, a link between articles:**\n",
    "\n",
    "    A -> B\n",
    "\n",
    "**is defined by the existence of a hyperlink in A pointing to B. This network also exists in the indexed format:**\n",
    "\n",
    "**Data: s3://ucb-mids-mls-networks/wikipedia/all-pages-indexed-out.txt**\n",
    "\n",
    "**Data: s3://ucb-mids-mls-networks/wikipedia/all-pages-indexed-in.txt**\n",
    "\n",
    "**Data: s3://ucb-mids-mls-networks/wikipedia/indices.txt**\n",
    "\n",
    "**but has an index with more detailed data:**\n",
    "\n",
    "    (article name) \\t (index) \\t (in degree) \\t (out degree)\n",
    "\n",
    "**In the dictionary, target nodes are keys, link weights are values. Here, a weight indicates the number of time a page links to another. However, for the sake of this assignment, treat this an unweighted network, and set all weights to 1 upon data input.**"
   ]
  },
  {
   "cell_type": "markdown",
   "metadata": {},
   "source": [
    "#HW 7.3: Exploratory data analysis (Wikipedia)"
   ]
  },
  {
   "cell_type": "markdown",
   "metadata": {},
   "source": [
    "**Using MRJob, explore the Wikipedia network data on the AWS cloud. Reuse your code from HW 7.1---does is scale well?**\n",
    "\n",
    "**Be cautioned that Wikipedia is a directed network, where links are not symmetric. So, even though a node may be linked to, it will not appear as a primary record itself if it has no out-links. This means that you may have to ADJUST your code (depending on its design). To be sure of your code's functionality in this context, run a systems test on the directed_toy.txt network.**"
   ]
  },
  {
   "cell_type": "markdown",
   "metadata": {},
   "source": [
    "###<font color=\"red\">See the 2nd notebook.</font>"
   ]
  },
  {
   "cell_type": "markdown",
   "metadata": {},
   "source": [
    "#HW7.4: Shortest path graph distances (Wikipedia)"
   ]
  },
  {
   "cell_type": "markdown",
   "metadata": {
    "collapsed": false
   },
   "source": [
    "**Using MRJob, find shortest path graph distances in the Wikipedia network on the AWS cloud. Reuse your code from 7.2, but once again be warned of Wikipedia being a directed network. To be sure of your code's functionality in this context, run a systems test on the directed_toy.txt network.**\n",
    "\n",
    "**When running your code on the Wikipedia network, proof its function by running the job:**\n",
    "\n",
    "- **shortest path from \"Ireland\" (index=6176135) to \"University of California, Berkeley\" (index=13466359),**\n",
    "\n",
    "**and show your code's output.**\n",
    "\n",
    "**Once your code is running, find some other shortest paths and report your results.**"
   ]
  },
  {
   "cell_type": "markdown",
   "metadata": {},
   "source": [
    "##MRJob code"
   ]
  },
  {
   "cell_type": "code",
   "execution_count": 2,
   "metadata": {
    "collapsed": false
   },
   "outputs": [
    {
     "name": "stdout",
     "output_type": "stream",
     "text": [
      "Overwriting ShortestPath_X.py\n"
     ]
    }
   ],
   "source": [
    "%%writefile ShortestPath_X.py\n",
    "from numpy import argmin, array, random\n",
    "from mrjob.job import MRJob\n",
    "from mrjob.job import MRStep\n",
    "import ast\n",
    "\n",
    "class ShortestPath_X(MRJob):\n",
    "    Frontiers = []\n",
    "    SSSP = {}\n",
    "    \n",
    "    def steps(self):\n",
    "        return [\n",
    "            MRStep(mapper_init = self.mapper_init, mapper=self.mapper,\n",
    "                   reducer_init = self.reducer_init, reducer = self.reducer)\n",
    "        ]\n",
    "\n",
    "    ## Load Frontiers & SSSP info into Mappers\n",
    "    def mapper_init(self):\n",
    "        ## Frontiers is a list of the nodes currenly in the Frontier\n",
    "        self.SSSP = {}\n",
    "        self.Frontiers = [s.strip() for s in \n",
    "                          open('Frontiers.txt').readlines()]\n",
    "        ## SSSP is a dict with the shortest distance and corresponding path for \n",
    "            ## each node\n",
    "        with open('SSSP.txt', 'r') as f:\n",
    "            for line in f:\n",
    "                line = line.strip().split('\\t')\n",
    "                dist_path = line[1].split(',')\n",
    "                self.SSSP[line[0]] = [float(dist_path[0]), dist_path[1]]\n",
    "        \n",
    "    ## Load data and output distance & path for nodes connected to those in the\n",
    "        ## Frontier\n",
    "    def mapper(self, _, line):\n",
    "        ## PSEUDOCODE\n",
    "        ## for each node v in G\n",
    "            ## for each node u outgouing from v\n",
    "                ## if v in Frontiers\n",
    "                    ## Output: (u, SSSP[v] + Dist(v,u))\n",
    "        line = line.split('\\t')\n",
    "        node = line[0]\n",
    "        sink = ast.literal_eval(line[1])\n",
    "        if node in self.Frontiers:\n",
    "            for sink_node in sink.keys():\n",
    "                if len(self.SSSP[node][1]) !=0 :\n",
    "                    yield sink_node, [self.SSSP[node][0] + sink[sink_node], \n",
    "                                      self.SSSP[node][1] + '/']\n",
    "                else:\n",
    "                    yield sink_node, [self.SSSP[node][0] + sink[sink_node], \n",
    "                                      self.SSSP[node][1] + node + '/']\n",
    "                \n",
    "    def reducer_init(self):\n",
    "        ## PSEUDOCODE\n",
    "        ## Frontiers = []\n",
    "        self.SSSP = {}\n",
    "        self.Frontiers = []\n",
    "        with open('SSSP.txt', 'r') as f:\n",
    "            for line in f:\n",
    "                line = line.strip().split('\\t')\n",
    "                dist_path = line[1].split(',')\n",
    "                self.SSSP[line[0]] = [float(dist_path[0]), dist_path[1]]\n",
    "\n",
    "    def reducer(self, node, values):\n",
    "        ## PSEUDOCODE\n",
    "        ## for each key k find the minimum value Dmin[k]\n",
    "        ## if Dmin[k] < SSSP[k]\n",
    "            ## SSSP[k] = Dmin[k]\n",
    "            ## Push k in Frontiers\n",
    "            ## Output (k, SSSP[k])\n",
    "        dist_path = [v for v in values]\n",
    "        distances = [int(d[0]) for d in dist_path]\n",
    "        min_distance = min(distances)\n",
    "        path_min_distance = [d[1] for d in dist_path if d[0]==min_distance][0]\n",
    "        self.SSSP[node] = self.SSSP.get(node,[float('inf'), ''])\n",
    "        if min_distance < self.SSSP[node][0]:\n",
    "            self.SSSP[node][0] = float(min_distance)\n",
    "            self.SSSP[node][1] = path_min_distance + node\n",
    "            yield node, self.SSSP[node]\n",
    "        \n",
    "if __name__ == '__main__':\n",
    "    ShortestPath_X.run()"
   ]
  },
  {
   "cell_type": "markdown",
   "metadata": {},
   "source": [
    "##AWS driver"
   ]
  },
  {
   "cell_type": "markdown",
   "metadata": {},
   "source": [
    "###Test with the toy example"
   ]
  },
  {
   "cell_type": "code",
   "execution_count": 3,
   "metadata": {
    "collapsed": false
   },
   "outputs": [
    {
     "name": "stderr",
     "output_type": "stream",
     "text": [
      "WARNING:mrjob.util:hash_object() is deprecated and will be removed in v0.5\n",
      "WARNING:mrjob.util:hash_object() is deprecated and will be removed in v0.5\n"
     ]
    },
    {
     "name": "stdout",
     "output_type": "stream",
     "text": [
      "====  s3://ucb-mids-mls-networks/directed_toy.txt  ====\n",
      "\n",
      "Iteration 1:\n",
      "Traceback (most recent call last):\n"
     ]
    },
    {
     "name": "stderr",
     "output_type": "stream",
     "text": [
      "ERROR: Internal Python error in the inspect module.\n",
      "Below is the traceback from this internal error.\n",
      "\n",
      "\n",
      "Unfortunately, your original traceback can not be constructed.\n",
      "\n",
      "\n",
      "KeyboardInterrupt\n"
     ]
    },
    {
     "name": "stdout",
     "output_type": "stream",
     "text": [
      "  File \"/home/hduser/anaconda/lib/python2.7/site-packages/IPython/core/ultratb.py\", line 970, in get_records\n",
      "    return _fixed_getinnerframes(etb, number_of_lines_of_context, tb_offset)\n",
      "  File \"/home/hduser/anaconda/lib/python2.7/site-packages/IPython/core/ultratb.py\", line 233, in wrapped\n",
      "    return f(*args, **kwargs)\n",
      "  File \"/home/hduser/anaconda/lib/python2.7/site-packages/IPython/core/ultratb.py\", line 285, in _fixed_getinnerframes\n",
      "    lines = ulinecache.getlines(file)[start:end]\n",
      "  File \"/home/hduser/anaconda/lib/python2.7/site-packages/IPython/utils/ulinecache.py\", line 37, in getlines\n",
      "    return [l.decode(encoding, 'replace') for l in lines]\n",
      "  File \"/home/hduser/anaconda/lib/python2.7/encodings/utf_8.py\", line 16, in decode\n",
      "    return codecs.utf_8_decode(input, errors, True)\n",
      "KeyboardInterrupt\n"
     ]
    }
   ],
   "source": [
    "from ShortestPath_X import ShortestPath_X\n",
    "\n",
    "GLOBAL_DATA = 's3://ucb-mids-mls-networks/directed_toy.txt'\n",
    "\n",
    "mr_job = ShortestPath_X(args=[GLOBAL_DATA, '-r', 'emr',\n",
    "                            '--file','Frontiers.txt',\n",
    "                            '--file','SSSP.txt',\n",
    "                            '--pool-emr-job-flows', '--max-hours-idle=1'])\n",
    "\n",
    "## Initialization\n",
    "\n",
    "    ## Initialize SSSP\n",
    "SSSP = {}\n",
    "source = '1'\n",
    "stop = '5'\n",
    "SSSP[source] = [0, \"\"]\n",
    "with open(GLOBAL_PATH + 'SSSP.txt', 'w+') as f:\n",
    "    for node in SSSP.keys():\n",
    "        f.writelines(node + '\\t' + ','.join([str(x) for x in SSSP[node]]) \n",
    "                     + '\\n')\n",
    "    ## Initialize Frontier\n",
    "Frontiers = [source]\n",
    "with open(GLOBAL_PATH + 'Frontiers.txt', 'w+') as f:\n",
    "    for node in Frontiers:\n",
    "        f.writelines(node + '\\n')\n",
    "\n",
    "print '==== ', GLOBAL_DATA, ' ===='\n",
    "\n",
    "# Update shortest paths iteratively\n",
    "GLOBAL_PATH = '/HD/Dropbox2/Dropbox/W261/HW7/'\n",
    "i=0\n",
    "stop_found = 0\n",
    "while len(Frontiers) != 0 and stop_found == 0:\n",
    "    Frontiers = []\n",
    "    SSSP = {}\n",
    "    with open(GLOBAL_PATH + 'SSSP.txt', 'r') as f:\n",
    "        for line in f:\n",
    "                line = line.strip().split('\\t')\n",
    "                dist_path = line[1].split(',')\n",
    "                SSSP[line[0]] = [float(dist_path[0]), dist_path[1]]\n",
    "    print \"\\nIteration \"+str(i+1)+\":\"\n",
    "    with mr_job.make_runner() as runner: \n",
    "        runner.run()\n",
    "        # stream_output: get access of the output \n",
    "        for line in runner.stream_output():\n",
    "            key,value =  mr_job.parse_output_line(line)\n",
    "            Frontiers.append(key)\n",
    "            SSSP[key] = value\n",
    "            if str(key) == stop:\n",
    "                stop_found = 1\n",
    "        with open(GLOBAL_PATH + 'SSSP.txt', 'w+') as f:\n",
    "            for node in SSSP.keys():\n",
    "                f.writelines(node + '\\t' + ','.join([str(x) for x in SSSP[node]]) + '\\n')\n",
    "    print 'There are {} nodes in the Frontier'.format(len(Frontiers))\n",
    "    with open(GLOBAL_PATH + 'Frontiers.txt', 'w+') as f:\n",
    "        for node in Frontiers:\n",
    "            f.writelines(node + '\\n')\n",
    "    i = i + 1\n",
    "\n",
    "if stop != '':\n",
    "    print \"The distance between nodes {} and {} is {} via path {}\".format(source, stop, SSSP[stop][0], SSSP[stop][1])\n",
    "else:\n",
    "    print \"Network solved from source node {}\".format(source)"
   ]
  },
  {
   "cell_type": "markdown",
   "metadata": {},
   "source": [
    "###Wikipedia Network"
   ]
  },
  {
   "cell_type": "code",
   "execution_count": 3,
   "metadata": {
    "collapsed": false,
    "scrolled": true
   },
   "outputs": [
    {
     "name": "stderr",
     "output_type": "stream",
     "text": [
      "WARNING:mrjob.util:hash_object() is deprecated and will be removed in v0.5\n"
     ]
    },
    {
     "name": "stdout",
     "output_type": "stream",
     "text": [
      "====  s3://ucb-mids-mls-networks/wikipedia/all-pages-indexed-out.txt  ====\n",
      "\n",
      "Iteration 1:\n",
      "There are 925 nodes in the Frontier"
     ]
    },
    {
     "name": "stderr",
     "output_type": "stream",
     "text": [
      "WARNING:mrjob.util:hash_object() is deprecated and will be removed in v0.5\n"
     ]
    },
    {
     "name": "stdout",
     "output_type": "stream",
     "text": [
      "\n",
      "\n",
      "Iteration 2:\n",
      "There are 66148 nodes in the Frontier\n",
      "The distance between nodes 6176135 and 13466359 is 3.0 via path 6176135/11607791/13466359\n"
     ]
    }
   ],
   "source": [
    "from ShortestPath_X import ShortestPath_X\n",
    "\n",
    "GLOBAL_DATA = 's3://ucb-mids-mls-networks/wikipedia/all-pages-indexed-out.txt'\n",
    "\n",
    "GLOBAL_PATH = '/HD/Dropbox2/Dropbox/W261/HW7/'\n",
    "\n",
    "mr_job = ShortestPath_X(args=[GLOBAL_DATA, '-r', 'emr',\n",
    "                            '--file','Frontiers.txt',\n",
    "                            '--file','SSSP.txt',\n",
    "                            '--pool-emr-job-flows', '--max-hours-idle=1'])\n",
    "\n",
    "## Initialization\n",
    "    ## Initialize SSSP\n",
    "SSSP = {}\n",
    "source = '6176135'\n",
    "stop = '13466359'\n",
    "SSSP[source] = [0, \"\"]\n",
    "with open(GLOBAL_PATH + 'SSSP.txt', 'w+') as f:\n",
    "    for node in SSSP.keys():\n",
    "        f.writelines(node + '\\t' + ','.join([str(x) for x in SSSP[node]]) \n",
    "                     + '\\n')\n",
    "    ## Initialize Frontier\n",
    "Frontiers = [source]\n",
    "with open(GLOBAL_PATH + 'Frontiers.txt', 'w+') as f:\n",
    "    for node in Frontiers:\n",
    "        f.writelines(node + '\\n')\n",
    "\n",
    "print '==== ', GLOBAL_DATA, ' ===='\n",
    "\n",
    "# Update shortest paths iteratively\n",
    "i=0\n",
    "stop_found = 0\n",
    "while len(Frontiers) != 0 and stop_found == 0:\n",
    "    Frontiers = []\n",
    "    SSSP = {}\n",
    "    with open(GLOBAL_PATH + 'SSSP.txt', 'r') as f:\n",
    "        for line in f:\n",
    "                line = line.strip().split('\\t')\n",
    "                dist_path = line[1].split(',')\n",
    "                SSSP[line[0]] = [float(dist_path[0]), dist_path[1]]\n",
    "    print \"\\nIteration \"+str(i+1)+\":\"\n",
    "    with mr_job.make_runner() as runner: \n",
    "        runner.run()\n",
    "        # stream_output: get access of the output \n",
    "        for line in runner.stream_output():\n",
    "            key,value =  mr_job.parse_output_line(line)\n",
    "            Frontiers.append(key)\n",
    "            SSSP[key] = value\n",
    "            if str(key) == stop:\n",
    "                stop_found = 1\n",
    "        with open(GLOBAL_PATH + 'SSSP.txt', 'w+') as f:\n",
    "            for node in SSSP.keys():\n",
    "                f.writelines(node + '\\t' + ','.join([str(x) for x in SSSP[node]]) + '\\n')\n",
    "    print 'There are {} nodes in the Frontier'.format(len(Frontiers))\n",
    "    with open(GLOBAL_PATH + 'Frontiers.txt', 'w+') as f:\n",
    "        for node in Frontiers:\n",
    "            f.writelines(node + '\\n')\n",
    "    i = i + 1\n",
    "\n",
    "if stop != '':\n",
    "    print \"The distance between nodes {} and {} is {} via path {}\".format(source, stop, SSSP[stop][0], SSSP[stop][1])\n",
    "else:\n",
    "    print \"Network solved from source node {}\".format(source)"
   ]
  },
  {
   "cell_type": "markdown",
   "metadata": {},
   "source": [
    "Both the number of iterations and the output of the code (last line printed above) indicate that there is only one node between the two nodes we wanted to connect (i.e., 2 links). But (**since our code works with weighted graphs**) the total distance is 3 because the weight of one of the 2 links is 2 rather than 1.\n",
    "\n",
    "Let's demonstrate it:"
   ]
  },
  {
   "cell_type": "code",
   "execution_count": 50,
   "metadata": {
    "collapsed": false
   },
   "outputs": [
    {
     "name": "stdout",
     "output_type": "stream",
     "text": [
      "Distance from 11607791 to 6176135: 2\n"
     ]
    }
   ],
   "source": [
    "## Find the line corresponding to source and move it to a separate file\n",
    "!grep -P '6176135\\t' ./wikipedia/all-pages-indexed-out.txt > find_source\n",
    "## Read that line in Python\n",
    "import ast\n",
    "line = open('find_source', 'r').readlines()\n",
    "source = line[0].strip().split('\\t')\n",
    "nodes_from_source = ast.literal_eval(source[1])\n",
    "## Print the weight of the link between the source and the intermediate node\n",
    "the print 'Distance from 11607791 to 6176135: {}'.format(nodes_from_source['11607791'])"
   ]
  },
  {
   "cell_type": "markdown",
   "metadata": {},
   "source": [
    "Had the weights been different (for example, 200 and 1 instead of 2 and 1), or the number of intermediate nodes been higher, there would have been a possibility that there is a shorter (weighted) path, that we missed because our search algorithm had a stop condition. But since all the nodes in the frontier of the source were inspected in the 2nd iteration, we can be certain that there is no node connected to the source with a weight of 1 that is also connected to the desired node with a weight 1 (i.e., there is no shortest path between those 2 nodes)."
   ]
  },
  {
   "cell_type": "markdown",
   "metadata": {},
   "source": [
    "### SIDE NOTE\n",
    "\n",
    "> The explanation above (as well as our code) assumes that the distance between 2 connected nodes is equal to the weight. But **in a context like this, weights may not denote a *distance* (or a *cost*), but the *strength* of the connection**, and hence they would be inversely proportional to the distance; e.g., the weight could mean the number of times the outbound node is mentioned in the inbound, or the increased importance/rank of being mentioned in a particular page (for example, if that page is a hub or has a high measure of centrality). In that case the distances in the code should be calculated as the inverse of the weights or some similar transformation.\n",
    "\n",
    "> In the absence of more information, we've decided to use the general pseudocode. Adapting it to a particular context where a high weight involves proximity would require just to change one line in both the mapper and the reducer."
   ]
  },
  {
   "cell_type": "code",
   "execution_count": 52,
   "metadata": {
    "collapsed": false,
    "scrolled": true
   },
   "outputs": [
    {
     "name": "stdout",
     "output_type": "stream",
     "text": [
      "4203398\t2.0,6176135/688049/4203398\n",
      "14608031\t3.0,6176135/2603759/14608031\n",
      "9429364\t7.0,6176135/230395/9429364\n",
      "14041898\t2.0,6176135/12736637/14041898\n",
      "2628170\t2.0,6176135/2909133/2628170\n",
      "1575235\t2.0,6176135/10758919/1575235\n",
      "7639662\t2.0,6176135/7731533/7639662\n",
      "13947115\t4.0,6176135/4344962/13947115\n",
      "7635563\t2.0,6176135/3124486/7635563\n",
      "880575\t2.0,6176135/11434841/880575\n",
      "\n",
      "13466359\t3.0,6176135/11607791/13466359\n",
      "\n",
      "Lines: 67041\n"
     ]
    }
   ],
   "source": [
    "!head ./SSSP.txt\n",
    "!echo; grep 13466359 ./SSSP.txt\n",
    "!echo $'\\nLines:' $(echo; wc -l ./SSSP.txt | cut -d' ' -f1)"
   ]
  },
  {
   "cell_type": "markdown",
   "metadata": {},
   "source": [
    "We can see above some of the paths from the source to other nodes (in 2 iterations). Some of the distances are higher than 2 (as it was the case of `Berkeley`) because we are considering the weights in the original file.\n",
    "\n",
    "Because the file with the distances (`SSSP.txt`) was not initialized with every single node in the graph, but was constructed iteratively, adding nodes in the subsequent frontiers, that file only contains thousands of nodes in the 2nd iterations (and hundreds in the 1st iteration), rather than millions, and can be handled locally."
   ]
  },
  {
   "cell_type": "markdown",
   "metadata": {},
   "source": [
    "###<font color=\"red\">See also the 2nd notebook for an alternative solution based on the implementation of HW7.0 of that notebook.</font>"
   ]
  },
  {
   "cell_type": "markdown",
   "metadata": {
    "collapsed": true
   },
   "source": [
    "# HW 7.5: Conceptual exercise: Largest single-source network distances"
   ]
  },
  {
   "cell_type": "markdown",
   "metadata": {},
   "source": [
    "**Suppose you wanted to find the largest network distance from a single source, i.e., a node that is the furthest (but still reachable) from a single source.**\n",
    "\n",
    "**How would you implement this task?**\n",
    "\n",
    "**How is this different from finding the shortest path graph distances?**\n",
    "\n",
    "**Is this task more difficult to implement than the shortest path distance?**\n",
    "\n",
    "**As you respond, please comment on program structure, runtimes, iterations, general system requirements, etc...**"
   ]
  },
  {
   "cell_type": "markdown",
   "metadata": {},
   "source": [
    "First of all, we would just have to use our code **without a stop condition**, lettting it to \"explore\" the whole network. If \"*from a single source*\" means a specific node, that would be the only change; if we're interested in the longest distance between any two nodes, then we woudld also need an **outer loop using every single node as source**: within that loop, that initializes the SSSP and Frontier files for each node, we would run an inner loop just like the one implemented in the previous drivers (for example, the one in the 3rd implementation in HW7.0, which does not have a stop condition, unlike the drivers in HW7.2 and HW7.4).\n",
    "\n",
    "If the network is unweighted, the furthest node will be found in the last iteration (it would be in the \"last frontier,\" just before it gets empty); if the network is weighted, the longest \"shortest path\" could be between 2 nodes directly connected to each other (if the weight of their link is high enough). In both cases, we can find that largest distance by inspecting the SSSP file (that resembles a Python dictionary whose values are a tuple `(distance, path)`) and finding the longest distance within the values.\n",
    "\n",
    "If the source is fixed, the task is pretty much the same we've run in HW7.0, HW7.2, and HW7.4 (actually, it is what we did in HW7.0, where there was no stop condition). If it is not fixed, the task is easy to implement in terms of code (it just requires a few extra lines to implement the outter loop and initialize inside that loop), but much more computationally expensive if the network is large (in the worst-case scenario, finding the shortest path between any 2 nodes requires the same iterations as the number of nodes in the network, call it $N$; in the same worst case, finding the longest distance between any 2 nodes would require $N^2$ iterations).\n",
    "\n",
    "Moreover, in order to find that longest distance we need to keep track of the SSSP file for each node that acts as source, so the space required to store that file would be $N$ times bigger also. But there is no need to keep that whole file in memory; we can store each version of it (corresponding to a different source) and merge them afterwards."
   ]
  },
  {
   "cell_type": "code",
   "execution_count": null,
   "metadata": {
    "collapsed": true
   },
   "outputs": [],
   "source": []
  }
 ],
 "metadata": {
  "kernelspec": {
   "display_name": "Python 2",
   "language": "python",
   "name": "python2"
  },
  "language_info": {
   "codemirror_mode": {
    "name": "ipython",
    "version": 2
   },
   "file_extension": ".py",
   "mimetype": "text/x-python",
   "name": "python",
   "nbconvert_exporter": "python",
   "pygments_lexer": "ipython2",
   "version": "2.7.10"
  }
 },
 "nbformat": 4,
 "nbformat_minor": 0
}
